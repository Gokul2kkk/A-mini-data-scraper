{
  "nbformat": 4,
  "nbformat_minor": 0,
  "metadata": {
    "colab": {
      "name": "DataScrapereManifest.ipynb",
      "provenance": []
    },
    "kernelspec": {
      "name": "python3",
      "display_name": "Python 3"
    },
    "language_info": {
      "name": "python"
    }
  },
  "cells": [
    {
      "cell_type": "code",
      "metadata": {
        "id": "q8yhUIEfR98I"
      },
      "source": [
        "#import webbrowser\n",
        "import requests"
      ],
      "execution_count": 2,
      "outputs": []
    },
    {
      "cell_type": "code",
      "metadata": {
        "id": "oYSgbNrHSAm7"
      },
      "source": [
        "url=\"https://rcrapublic.epa.gov/rcra-public-export/rest/api/v1/public/export/current\" #Enter any URL which has rows and columns\n",
        "\n",
        "res = requests.get(url).json() #java_script_object_notation\n",
        "\n",
        "s3base = \"https://s3.amazonaws.com/rcrainfo-ftp/\" #since it's common for all the files in that web page"
      ],
      "execution_count": null,
      "outputs": []
    },
    {
      "cell_type": "code",
      "metadata": {
        "id": "URIZutj2SGGk"
      },
      "source": [
        "for module in res[\"modules\"]:  #searching the column\n",
        "    if(module[\"module\"] == \"eManifest\"):   #The col name being eManifest\n",
        "        print(\"Your URL is : \"+s3base+module[\"s3Key\"])\n",
        "        break"
      ],
      "execution_count": null,
      "outputs": []
    }
  ]
}